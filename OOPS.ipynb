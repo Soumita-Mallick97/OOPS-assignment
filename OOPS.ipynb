{
  "nbformat": 4,
  "nbformat_minor": 0,
  "metadata": {
    "colab": {
      "provenance": []
    },
    "kernelspec": {
      "name": "python3",
      "display_name": "Python 3"
    },
    "language_info": {
      "name": "python"
    }
  },
  "cells": [
    {
      "cell_type": "markdown",
      "source": [
        "1. What is object-oriented programming(OOP)?\n",
        "   - OOP in python is a programming paradigm that organizes software design around objects rather than functions and logic. It focuses on creating reusable, modular, and maintainable code by modeling real-word entites as objects.\n",
        "\n",
        "2. What is a class in oop?\n",
        "   -In OOP, a class is a blueprint or template for creating objects. It defines the properties and behaviors that objects of that class will possess.\n",
        "\n",
        "3. What is an object in OOP?\n",
        "   - In OOP, an object is a fundamental, self-contained unit that ecapsulates data and methods that operate on that data.\n",
        "\n",
        "4. What is the difference between abstraction and encapsulation?\n",
        "   - Abstraction focuses on hiding unnecessary complexity and showing only the essential features of an object,while encapsulation focuses on bundlinng the data and methods that operates on that data into a single unit and restriction access to the internal details.\n",
        "\n",
        "5. What are dunder methods in python?\n",
        "   - Dunder methods, also known as magic methods or special methods, are a set of predefined methods in python that are distinguished by their names starting and ending with double underscores. these methods allow you to define how your custom objects interact with python's built-in functions, operators, and syntax.\n",
        "\n",
        "6. Explain the concept of inheitance in OOP?\n",
        "   - Inheritance in python is a funndamental concept of OOP that allows a new class, known as the child class or derived class, to inherit attributes and methods from an existing class, known as the parent class or base class.\n",
        "\n",
        "7. What is polymorphism in OOP?\n",
        "   - Polymorphism in OOP allows objects of different classes to be treated as objects of a common type, enabling them to respond to the same method call in their own unique way.\n",
        "\n",
        "8. How is encapsulation achieved in python?\n",
        "  - Encapsulation i python is achieved through a combination of conventions and language features, through it differs from the strict access modifiers found in language.\n",
        "\n",
        "9. What is a constructor in python?\n",
        "  - In python, a constructor is a special method used to initialize an object when it is created.\n",
        "\n",
        "10. What are class and static methods in python?\n",
        "  - In python, class methods and static methods are distinct types of methods within a class, differing in their binding and access to class or instance data.\n",
        "\n",
        "11. What is method overloading in python?\n",
        "   - Method overloading in the context of OOP, refers to the ability to define multiple methods within the same class that share the same name but have different parameters . This allows a single method name to perform different actons depending on the arguments provided.\n",
        "\n",
        "12. What is method overriding in OOP?\n",
        "    - Method overriding in python is a concept in object-oriented programminng where a subclass provides its ownn specific implementation for a method that is already defined in its superclass.\n",
        "\n",
        "13. What is a property decorator in python?\n",
        "   - A property decorator in python is a built in decorator that allows you to defie methods within a class that can be accessed like attributes, while still providing control over how those attrbutes are accessed, modified or deleted.\n",
        "\n",
        "14. Why is polymorphism important in oop?\n",
        "    - It allows objects of different classes to be treated as objects of a common type, promoting code reusablity, flexibility, and maintainability.\n",
        "\n",
        "15. What is an abstract class in python?\n",
        "   -   An Abstract class in python is a class that serves as a blueprint or template for other classes. It cannot be instantiated directly, meaning you cannot create objects of an abstract class.\n",
        "\n",
        "16. What are the advantages of OOP?\n",
        "   - OOP offers several advantages, including improved code organization, reusability, flexibility and maitainability.\n",
        "\n",
        "17. What is the difference between a class variable and an instance variable?\n",
        "   - Class variables and instance variables differ inn their scope and how they are accessed. Class variables are shared among all instances of a class, while instance variables are unique to each object of a class.\n",
        "\n",
        "18. What is multiple inhritance in python?\n",
        "    - Multiple inheritance in python is a feature of object-oriented programming where a class can inherit attributes and methods from more than one parent class.\n",
        "\n",
        "19. Explain the purpose of '__str__' and '__repr__' methods inn python?\n",
        "    - This primary purpose is to allow classes to integrate seamlessly with python's built-in operations and funtionalise.\n",
        "\n",
        "20. What is the signnificance of the 'super()' function in python?\n",
        "  - The super() function in python holds significant importance in object-oriented programming, particularly concerning inheritance.\n",
        "\n",
        "21. What is the sigificance of the __del__ method in python?\n",
        "   - It helps to delete any class in oop.\n",
        "\n",
        "22.  What is the difference between @staticmethod and @classmethod inn python?\n",
        "    - Static method for utility functions that do not depend on instance or class state. Use class methods when your method needs access to class specific data or when implementing factory methods.\n",
        "\n",
        "23. How does polymorphism work in python with inheritance?\n",
        "   - Polymorphism in python, when combined with inheritance, allows objects of different classes that share a common parent to be treated uniformly through a common interface. This is primarily achieved through method overriding.\n",
        "\n",
        "24. What is method chaining in pyhton OOP?\n",
        "   - Method chaining in python is a programming technique where multiple methods are callled sequentially on the same object in a single line of code.\n",
        "\n",
        "25. What is the purpose of the __call__ method in python?\n",
        "   - The __call__ method in python serves the purpose of making instances of a class callable, allowing them to be invoked like functions. When ann object of a class that defines __call__ is called using parenthesis,the __call__ method of that object s automaatically executed.\n",
        "\n"
      ],
      "metadata": {
        "id": "AksyqDI1uCEV"
      }
    },
    {
      "cell_type": "code",
      "source": [
        "#1. create a parent class Animal with a method speak() that prints a generic message.\n",
        "\n",
        "class animal:\n",
        "  def __init__(self,name):\n",
        "    self.name = name\n",
        "\n",
        "  def speak(self):\n",
        "    pass\n",
        "\n",
        "class dog(animal):\n",
        "  def speak(self):\n",
        "    return f\"{self.name}barks!\""
      ],
      "metadata": {
        "id": "2nLG4_e-2ywY"
      },
      "execution_count": null,
      "outputs": []
    },
    {
      "cell_type": "code",
      "source": [
        "dog = dog(\"buddy\")\n",
        "print(dog.speak())"
      ],
      "metadata": {
        "colab": {
          "base_uri": "https://localhost:8080/"
        },
        "id": "ZBDst7WR4B1o",
        "outputId": "4442fc52-47c0-4774-b621-5a25aa84535b"
      },
      "execution_count": null,
      "outputs": [
        {
          "output_type": "stream",
          "name": "stdout",
          "text": [
            "buddybarks!\n"
          ]
        }
      ]
    },
    {
      "cell_type": "code",
      "source": [
        "#2. Write a program to create an abstract class shape with a  method area().Derive classes circle and rectangle from it and implement the area ()method i both.\n",
        "\n",
        "class shape:\n",
        "  def area(self):\n",
        "    raise\n",
        "\n",
        "class rectangle(shape):\n",
        "  def __init__(self,length,width):\n",
        "    self.width = width\n",
        "    self.length = length\n",
        "\n",
        "  def area(self):\n",
        "    print(the area of rectangle is {self.length*self.width})\n",
        "\n",
        "class square(rectangle):\n",
        "  def __init__(self,side):\n",
        "\n",
        "super().__init__(side,side)\n",
        "  def area(self):\n",
        "    print(f&quot;the area of rectangle is {self.length**2}&quot;)\n",
        "\n"
      ],
      "metadata": {
        "colab": {
          "base_uri": "https://localhost:8080/",
          "height": 106
        },
        "id": "6tqNY7lz4N-_",
        "outputId": "d8640a89-5201-42be-b4d2-6bb58940cc5e"
      },
      "execution_count": null,
      "outputs": [
        {
          "output_type": "error",
          "ename": "SyntaxError",
          "evalue": "invalid syntax. Perhaps you forgot a comma? (ipython-input-10-4227121178.py, line 13)",
          "traceback": [
            "\u001b[0;36m  File \u001b[0;32m\"/tmp/ipython-input-10-4227121178.py\"\u001b[0;36m, line \u001b[0;32m13\u001b[0m\n\u001b[0;31m    print(the area of rectangle is {self.length*self.width})\u001b[0m\n\u001b[0m          ^\u001b[0m\n\u001b[0;31mSyntaxError\u001b[0m\u001b[0;31m:\u001b[0m invalid syntax. Perhaps you forgot a comma?\n"
          ]
        }
      ]
    },
    {
      "cell_type": "code",
      "source": [
        "#3. implement a multilevel inheritance scenario where a class vehicle has an attribute type.\n",
        "class vehicle:\n",
        "  name = \"\"\n",
        "\n",
        "  def model(self):\n",
        "    print(\"i can accelerate\")\n",
        "\n",
        "class car(vehicle):\n",
        "  def model(self):\n",
        "    print(\"I can accelerate 100kms/hr\")\n"
      ],
      "metadata": {
        "id": "gbSo5rjR4N7K"
      },
      "execution_count": null,
      "outputs": []
    },
    {
      "cell_type": "code",
      "source": [
        "maruti = car()\n",
        "maruti.model()"
      ],
      "metadata": {
        "colab": {
          "base_uri": "https://localhost:8080/"
        },
        "id": "hsY5K0gX4N2l",
        "outputId": "b66495d4-65bd-4bbb-cf4d-1ae473f326bb"
      },
      "execution_count": null,
      "outputs": [
        {
          "output_type": "stream",
          "name": "stdout",
          "text": [
            "I can accelerate 100kms/hr\n"
          ]
        }
      ]
    },
    {
      "cell_type": "code",
      "source": [
        "#4. Demonstrate a polymorphism by creating a base class bird with a method fly().\n",
        "class bird:\n",
        "  name = \"\"\n",
        "\n",
        "  def fly(self):\n",
        "    print(\"i can fly\")\n",
        "\n",
        "class sparrow(bird):\n",
        "  def fly(self):\n",
        "    print(\"i can fly\")\n",
        "\n",
        "class penguine(bird):\n",
        "  def fly(self):\n",
        "    print(\"i cannot fly\")\n",
        "\n"
      ],
      "metadata": {
        "id": "X9I_N37DBD9O"
      },
      "execution_count": null,
      "outputs": []
    },
    {
      "cell_type": "code",
      "source": [
        "a = sparrow()\n",
        "a.fly()"
      ],
      "metadata": {
        "colab": {
          "base_uri": "https://localhost:8080/"
        },
        "id": "AEuOmtkHBDwT",
        "outputId": "b65cdfec-5f2b-4f7f-a35d-57ba7d81711c"
      },
      "execution_count": null,
      "outputs": [
        {
          "output_type": "stream",
          "name": "stdout",
          "text": [
            "i can fly\n"
          ]
        }
      ]
    },
    {
      "cell_type": "code",
      "source": [
        "b = penguine()\n",
        "b.fly()"
      ],
      "metadata": {
        "colab": {
          "base_uri": "https://localhost:8080/"
        },
        "id": "tfE4ZF9gD9VM",
        "outputId": "c23e4426-610d-455a-a45e-2026e38ad611"
      },
      "execution_count": null,
      "outputs": [
        {
          "output_type": "stream",
          "name": "stdout",
          "text": [
            "i cannot fly\n"
          ]
        }
      ]
    },
    {
      "cell_type": "code",
      "source": [
        "#5. Write a program to demonstrate encapsulation by creating bankaccount with a private attributes balance annd methods to deposit, withdraw and check balance.\n",
        "\n",
        "class bankaccount:\n",
        "  def __init__(self,account_holder, initial_balance=0):\n",
        "    self.__account_holder = account_holder\n",
        "    self.__balance = initial_balance\n",
        "\n",
        "  def get_balance(self):\n",
        "    return self.__balance\n",
        "\n",
        "  def deposit(self, amount):\n",
        "    if amount > 0:\n",
        "      self.__balance += amount\n",
        "      print(f\"deposited {amount:.2f}. new balance: {self.__balace:.2f}\")\n",
        "    else:\n",
        "      print(\"insufficient funds or innvalid amount.\")\n",
        "\n"
      ],
      "metadata": {
        "id": "57JDL0zpEEd9"
      },
      "execution_count": null,
      "outputs": []
    },
    {
      "cell_type": "code",
      "source": [
        "account = bankaccount(\"soumita\",1000)\n",
        "print(f\"initial balance: {account.get_balance():.2f}\")"
      ],
      "metadata": {
        "id": "Pnn9U4AKEEZM",
        "colab": {
          "base_uri": "https://localhost:8080/"
        },
        "outputId": "90925198-2526-4071-ea15-5db5bad852a8"
      },
      "execution_count": null,
      "outputs": [
        {
          "output_type": "stream",
          "name": "stdout",
          "text": [
            "initial balance: 1000.00\n"
          ]
        }
      ]
    },
    {
      "cell_type": "code",
      "source": [
        "account.deposit(500)\n",
        "account.withdraw(200)\n",
        "print(f\"final balance: {account.get_balance():.2f}\")"
      ],
      "metadata": {
        "id": "NzjG30tQEEVd",
        "colab": {
          "base_uri": "https://localhost:8080/",
          "height": 176
        },
        "outputId": "7e332f76-f0f2-4aaf-9398-b6403ce7d621"
      },
      "execution_count": null,
      "outputs": [
        {
          "output_type": "error",
          "ename": "NameError",
          "evalue": "name 'self' is not defined",
          "traceback": [
            "\u001b[0;31m---------------------------------------------------------------------------\u001b[0m",
            "\u001b[0;31mNameError\u001b[0m                                 Traceback (most recent call last)",
            "\u001b[0;32m/tmp/ipython-input-9-234575088.py\u001b[0m in \u001b[0;36m<cell line: 0>\u001b[0;34m()\u001b[0m\n\u001b[0;32m----> 1\u001b[0;31m \u001b[0maccount\u001b[0m\u001b[0;34m.\u001b[0m\u001b[0mdeposit\u001b[0m\u001b[0;34m(\u001b[0m\u001b[0mself\u001b[0m\u001b[0;34m,\u001b[0m\u001b[0;36m500\u001b[0m\u001b[0;34m)\u001b[0m\u001b[0;34m\u001b[0m\u001b[0;34m\u001b[0m\u001b[0m\n\u001b[0m\u001b[1;32m      2\u001b[0m \u001b[0maccount\u001b[0m\u001b[0;34m.\u001b[0m\u001b[0mwithdraw\u001b[0m\u001b[0;34m(\u001b[0m\u001b[0;36m200\u001b[0m\u001b[0;34m)\u001b[0m\u001b[0;34m\u001b[0m\u001b[0;34m\u001b[0m\u001b[0m\n\u001b[1;32m      3\u001b[0m \u001b[0mprint\u001b[0m\u001b[0;34m(\u001b[0m\u001b[0;34mf\"final balance: {account.get_balance():.2f}\"\u001b[0m\u001b[0;34m)\u001b[0m\u001b[0;34m\u001b[0m\u001b[0;34m\u001b[0m\u001b[0m\n",
            "\u001b[0;31mNameError\u001b[0m: name 'self' is not defined"
          ]
        }
      ]
    },
    {
      "cell_type": "code",
      "source": [
        "#6.Demonstrate runtime polymorphism using a method play() in a base class instrument. Derive classes Guitar and Piano that implement their ow version of play().\n",
        "\n",
        "class instrument{\n",
        "    public void play(){\n",
        "        system.out.printin(\"playing generic instrument sound.\");\n",
        "    }\n",
        "}\n",
        "class guiter extends instrument{\n",
        "    @override\n",
        "    public void play(){\n",
        "        system.out.printin(\"guitar is strumming.\");\n",
        "    }\n",
        "}\n",
        "\n",
        "class piano extends instrument{\n",
        "    @override\n",
        "    public void play(){\n",
        "        system.out.printin(\"piano is playing keys.\");\n",
        "    }\n",
        "}\n",
        "\n",
        "public class main{\n",
        "    public static void main(string[]args){\n",
        "        instrument myinstrument;\n",
        "\n",
        "        myinstrument = new guitar();\n",
        "        myistrument.play();\n",
        "\n",
        "        myinstrument = new piano();\n",
        "        myinstrument.play();\n",
        "    }\n",
        "}"
      ],
      "metadata": {
        "id": "lNRqGoYvEEPV",
        "colab": {
          "base_uri": "https://localhost:8080/",
          "height": 106
        },
        "outputId": "94c7e4be-5bd1-4ac4-dfd4-738878305185"
      },
      "execution_count": null,
      "outputs": [
        {
          "output_type": "error",
          "ename": "SyntaxError",
          "evalue": "invalid syntax (ipython-input-1-843019858.py, line 3)",
          "traceback": [
            "\u001b[0;36m  File \u001b[0;32m\"/tmp/ipython-input-1-843019858.py\"\u001b[0;36m, line \u001b[0;32m3\u001b[0m\n\u001b[0;31m    class instrument{\u001b[0m\n\u001b[0m                    ^\u001b[0m\n\u001b[0;31mSyntaxError\u001b[0m\u001b[0;31m:\u001b[0m invalid syntax\n"
          ]
        }
      ]
    },
    {
      "cell_type": "code",
      "source": [
        "#7. Create a class mathoperation with a class method add_numbers() to add two numbers and a static method substract_numbers() to substract two numbers.\n",
        "class mathoperation:\n",
        "  @classmethod\n",
        "  def add_numbers(cls, num1, num2):\n",
        "    return num1 + num2"
      ],
      "metadata": {
        "id": "C1SGTXmKsrqa"
      },
      "execution_count": null,
      "outputs": []
    },
    {
      "cell_type": "code",
      "source": [
        "sum_result = mathoperation.add_numbers(10 ,5)\n",
        "print(f\"the sum is: {sum_result}\")"
      ],
      "metadata": {
        "colab": {
          "base_uri": "https://localhost:8080/"
        },
        "id": "V8otd3I_srmE",
        "outputId": "aabe4934-d8bb-407c-f17b-4c4322164afb"
      },
      "execution_count": null,
      "outputs": [
        {
          "output_type": "stream",
          "name": "stdout",
          "text": [
            "the sum is: 15\n"
          ]
        }
      ]
    },
    {
      "cell_type": "code",
      "source": [
        "class mathoperation:\n",
        "  @classmethod\n",
        "  def substract_numbers(cls, a, b):\n",
        "    return a - b"
      ],
      "metadata": {
        "id": "zEknmCplsrep"
      },
      "execution_count": null,
      "outputs": []
    },
    {
      "cell_type": "code",
      "source": [
        "substract_result = mathoperation.substract_numbers(10,5)\n",
        "print(f\"the substract is: {substract_result}\")"
      ],
      "metadata": {
        "colab": {
          "base_uri": "https://localhost:8080/"
        },
        "id": "k6Z_lpUYugmV",
        "outputId": "6ee784f6-17b2-40f9-a580-833c98abc222"
      },
      "execution_count": null,
      "outputs": [
        {
          "output_type": "stream",
          "name": "stdout",
          "text": [
            "the substract is: 5\n"
          ]
        }
      ]
    },
    {
      "cell_type": "code",
      "source": [
        "#8. Implement a class person with a class method to count the total number of persons created.\n",
        "class person:\n",
        "  count = 0\n",
        "  def __init__(self, name,age):\n",
        "    self.name = name\n",
        "    self.age = age\n",
        "    person.count += 1\n",
        "  @classmethod\n",
        "  def get_total_people(cls):\n",
        "    return cls.count"
      ],
      "metadata": {
        "id": "h9MAd2DZugXx"
      },
      "execution_count": null,
      "outputs": []
    },
    {
      "cell_type": "code",
      "source": [
        "person1 = person(\"alice\", 30)\n",
        "person2 = person(\"bob\", 25)\n",
        "person3 = person(\"charlie\", 40)\n",
        "\n",
        "total_person = person.get_total_people()\n",
        "print(f\"total number of people created: {total_person}\")"
      ],
      "metadata": {
        "colab": {
          "base_uri": "https://localhost:8080/"
        },
        "id": "4GRcuSPEv547",
        "outputId": "134d2bb0-b1aa-4fcc-8811-818993494510"
      },
      "execution_count": null,
      "outputs": [
        {
          "output_type": "stream",
          "name": "stdout",
          "text": [
            "total number of people created: 12\n"
          ]
        }
      ]
    },
    {
      "cell_type": "code",
      "source": [
        "#9.Write a class fraction with attributes numerator and denominator. override the str method to display the fraction as 'numerator/denominator .\n",
        "\n",
        "class fraction:\n",
        "  def __init__(self, numerator, denominator):\n",
        "    self.numerator = numerator\n",
        "    self.denominator = denominator\n",
        "  def __str__(self):\n",
        "    return f\"{self.numerator}/{self.denominator}\""
      ],
      "metadata": {
        "id": "6JOM8h1lv5zq"
      },
      "execution_count": null,
      "outputs": []
    },
    {
      "cell_type": "code",
      "source": [
        "fraction1 = fraction(3,4)\n",
        "print(fraction1)"
      ],
      "metadata": {
        "colab": {
          "base_uri": "https://localhost:8080/"
        },
        "id": "TU1QkuvS0UEn",
        "outputId": "df48df09-ce2a-4109-f677-f0365f36ed7e"
      },
      "execution_count": null,
      "outputs": [
        {
          "output_type": "stream",
          "name": "stdout",
          "text": [
            "3/4\n"
          ]
        }
      ]
    },
    {
      "cell_type": "code",
      "source": [
        "from re import X\n",
        "from re import X\n",
        "#10. demonstrate operator overloading by creating a class vector and overriding the add method to add two vectors.\n",
        "\n",
        "class vector:\n",
        "  def __init__(self,x,y):\n",
        "    self.x = x\n",
        "    self.y = y\n",
        "\n",
        "  def __add__(self,other):\n",
        "    if isinstance(other, vector):\n",
        "      return vector(self.x + other.x , self.y + other.y)\n",
        "    else:\n",
        "      raise TypeError(\"unsupported operand type for +: 'vector' and '{}' \".format(type(other).__name__))\n",
        "\n",
        "  def __repr__(self):\n",
        "    return f\"vector({self.x}, {self.y})\"\n"
      ],
      "metadata": {
        "id": "QdAg_moi0ehl"
      },
      "execution_count": null,
      "outputs": []
    },
    {
      "cell_type": "code",
      "source": [
        "vector1 = vector(2,3)\n",
        "vector2 = vector(5,7)\n",
        "\n",
        "vector_sum = vector1 + vector2\n",
        "\n",
        "print(f\"vector 1: {vector1}\")\n",
        "print(f\"vector 2: {vector2}\")\n",
        "\n",
        "print(f\"vector sum: {vector_sum}\")"
      ],
      "metadata": {
        "colab": {
          "base_uri": "https://localhost:8080/"
        },
        "id": "4MGVMZzO0ecq",
        "outputId": "3ec12a36-f656-4397-eb59-392cce2bc2bc"
      },
      "execution_count": null,
      "outputs": [
        {
          "output_type": "stream",
          "name": "stdout",
          "text": [
            "vector 1: vector(2, 3)\n",
            "vector 2: vector(5, 7)\n",
            "vector sum: vector(7, 10)\n"
          ]
        }
      ]
    },
    {
      "cell_type": "code",
      "source": [
        "#11. create a class person with attributes name and age. add a method greet() that prints \"hello\".\n",
        "\n",
        "class person:\n",
        "  def __init__(self, name, age):\n",
        "\n",
        "    self.name = name\n",
        "    self.age = age\n",
        "\n",
        "  def greet(self):\n",
        "    print(f\"hello, my name is {self.name} and i am {self.age}years old\")"
      ],
      "metadata": {
        "id": "ET21w0tw0eW0"
      },
      "execution_count": 2,
      "outputs": []
    },
    {
      "cell_type": "code",
      "source": [
        "person1 = person(\"soumita\",27)\n",
        "person1.greet()"
      ],
      "metadata": {
        "colab": {
          "base_uri": "https://localhost:8080/"
        },
        "id": "4kvp8nn5cP-h",
        "outputId": "60506319-d8a1-440c-dfd9-d8569ae3bbc2"
      },
      "execution_count": 3,
      "outputs": [
        {
          "output_type": "stream",
          "name": "stdout",
          "text": [
            "hello, my name is soumita and i am 27years old\n"
          ]
        }
      ]
    },
    {
      "cell_type": "code",
      "source": [
        "#12. Implement a class student with attributes name and grades. create a method average_grade() to compute the average of the grades.\n",
        "\n",
        "class student:\n",
        "  def __init__(self,name, grades):\n",
        "    self.name = name\n",
        "    self.grades = grades\n",
        "\n",
        "  def average_grade(self):\n",
        "    if not self.grades:\n",
        "      return 0\n",
        "    return sum(self.grades)/ len(self.grades)\n",
        ""
      ],
      "metadata": {
        "id": "4LOa3IW8cllF"
      },
      "execution_count": 4,
      "outputs": []
    },
    {
      "cell_type": "code",
      "source": [
        "student1 = student(\"soumita\",[85,96,78,90,92])\n",
        "print(f\"{student1.name}'s average grade : {student1.average_grade()}\")"
      ],
      "metadata": {
        "colab": {
          "base_uri": "https://localhost:8080/"
        },
        "id": "2dQVedaPclfh",
        "outputId": "f87b0eac-350f-4d7e-abf2-4eb0f136cc39"
      },
      "execution_count": 5,
      "outputs": [
        {
          "output_type": "stream",
          "name": "stdout",
          "text": [
            "soumita's average grade : 88.2\n"
          ]
        }
      ]
    },
    {
      "cell_type": "code",
      "source": [
        "#13. create a class rectangle with methods set_dimensions() to set the dimensions and area() to calculate the area.\n",
        "\n",
        "class rectangle:\n",
        "  def __init__(self, length = 0,width = 0):\n",
        "    self.length = length\n",
        "    self.width = width\n",
        "\n",
        "  def set_dimensions(self, length, width):\n",
        "    self.length = length\n",
        "    self.width = width\n",
        "\n",
        "  def area(self):\n",
        "    return self.length * self.width"
      ],
      "metadata": {
        "id": "kBLo8a5-claZ"
      },
      "execution_count": 8,
      "outputs": []
    },
    {
      "cell_type": "code",
      "source": [
        "rect = rectangle()\n",
        "rect.set_dimensions(10,5)\n",
        "print(f\"area of rectange: {rect.area()}\")"
      ],
      "metadata": {
        "colab": {
          "base_uri": "https://localhost:8080/"
        },
        "id": "jAB9JqV6clR-",
        "outputId": "7bf99170-6074-4c49-dbb2-e79e26a5c43d"
      },
      "execution_count": 9,
      "outputs": [
        {
          "output_type": "stream",
          "name": "stdout",
          "text": [
            "area of rectange: 50\n"
          ]
        }
      ]
    },
    {
      "cell_type": "code",
      "source": [
        "#14.\n",
        "class employee:\n",
        "  def __init__(self, name, hours_worked, hourly_rate):\n",
        "    self.name = name\n",
        "    self.hours_worked = hours_worked\n",
        "    self.hourly_rate = hourly_rate\n",
        "\n",
        "  def calculate_salary(self):\n",
        "    return self.hours_worked * self.hourly_rate\n",
        "\n",
        "class manager(employee):\n",
        "  def __init__(self,name, hours_worked, hourly_rate, bonus):\n",
        "    super().__init__(name, hours_worked,hourly_rate)\n",
        "    self.bonus = bonus\n",
        "\n",
        "  def calculate_salary(self):\n",
        "    return super().calculate_salary() + self.bonus"
      ],
      "metadata": {
        "id": "ejYBPmNNgV9e"
      },
      "execution_count": 12,
      "outputs": []
    },
    {
      "cell_type": "code",
      "source": [
        "employee = employee(\"a\" , 40,50)\n",
        "print(f\"{employee.name}'s salary: {employee.calculate_salary()}\")\n",
        "\n",
        "manager = manager(\"b\",40,25,10000)\n",
        "print(f\"{manager.name}'s salary: {manager.calculate_salary()}\")"
      ],
      "metadata": {
        "colab": {
          "base_uri": "https://localhost:8080/"
        },
        "id": "eXjOKXrzihq_",
        "outputId": "fe244ad0-2904-46b2-ecb3-f43cda6d65c8"
      },
      "execution_count": 13,
      "outputs": [
        {
          "output_type": "stream",
          "name": "stdout",
          "text": [
            "a's salary: 2000\n",
            "b's salary: 11000\n"
          ]
        }
      ]
    },
    {
      "cell_type": "code",
      "source": [],
      "metadata": {
        "id": "PDNDLaY1jRoU"
      },
      "execution_count": null,
      "outputs": []
    }
  ]
}